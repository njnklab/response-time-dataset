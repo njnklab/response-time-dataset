{
 "cells": [
  {
   "cell_type": "code",
   "execution_count": 1,
   "metadata": {},
   "outputs": [],
   "source": [
    "from data import Data\n",
    "import pandas as pd"
   ]
  },
  {
   "cell_type": "code",
   "execution_count": 2,
   "metadata": {},
   "outputs": [
    {
     "name": "stdout",
     "output_type": "stream",
     "text": [
      "phq9\n",
      "          Count Proportion  CR_Count CR_Proportion\n",
      "category                                          \n",
      "0         16886     69.51%      2145        12.70%\n",
      "1          6090     25.07%       364         5.98%\n",
      "2           957      3.94%        78         8.15%\n",
      "3           262      1.08%        19         7.25%\n",
      "4            97      0.40%        11        11.34%\n",
      "\n",
      "gad7\n",
      "          Count Proportion  CR_Count CR_Proportion\n",
      "category                                          \n",
      "0         20170     83.03%      4345        21.54%\n",
      "1          3576     14.72%       316         8.84%\n",
      "2           332      1.37%        30         9.04%\n",
      "3           157      0.65%        14         8.92%\n",
      "4            57      0.23%        10        17.54%\n",
      "\n",
      "isi\n",
      "          Count Proportion  CR_Count CR_Proportion\n",
      "category                                          \n",
      "0         22090     90.94%      3747        16.96%\n",
      "1          1922      7.91%       227        11.81%\n",
      "2           242      1.00%        20         8.26%\n",
      "3            38      0.16%        12        31.58%\n",
      "\n",
      "pss\n",
      "          Count Proportion  CR_Count CR_Proportion\n",
      "category                                          \n",
      "0          6607     27.20%       579         8.76%\n",
      "1         14884     61.27%      4008        26.93%\n",
      "2          2687     11.06%       724        26.94%\n",
      "3           114      0.47%         5         4.39%\n",
      "\n"
     ]
    }
   ],
   "source": [
    "scales = ['phq9', 'gad7', 'isi', 'pss']\n",
    "\n",
    "for scale in scales:\n",
    "    data = Data(scale)\n",
    "    print(scale)\n",
    "    print(data.sever_prop())\n",
    "    print()"
   ]
  }
 ],
 "metadata": {
  "kernelspec": {
   "display_name": "base",
   "language": "python",
   "name": "python3"
  },
  "language_info": {
   "codemirror_mode": {
    "name": "ipython",
    "version": 3
   },
   "file_extension": ".py",
   "mimetype": "text/x-python",
   "name": "python",
   "nbconvert_exporter": "python",
   "pygments_lexer": "ipython3",
   "version": "3.9.13"
  }
 },
 "nbformat": 4,
 "nbformat_minor": 2
}
